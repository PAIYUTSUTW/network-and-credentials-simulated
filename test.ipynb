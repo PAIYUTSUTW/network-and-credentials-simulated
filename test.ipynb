{
 "cells": [
  {
   "cell_type": "code",
   "execution_count": 9,
   "metadata": {},
   "outputs": [],
   "source": [
    "import utils\n",
    "import setting_environment\n",
    "from natsort import natsorted\n",
    "import os\n",
    "import pickle\n",
    "import logging\n",
    "import networkx as nx\n",
    "import matplotlib.pyplot as plt\n",
    "logging.basicConfig(filename='output.log', level=logging.DEBUG, format='%(message)s')"
   ]
  },
  {
   "cell_type": "code",
   "execution_count": 2,
   "metadata": {},
   "outputs": [],
   "source": [
    "loader = setting_environment.set_environment(84)"
   ]
  },
  {
   "cell_type": "code",
   "execution_count": 28,
   "metadata": {},
   "outputs": [],
   "source": [
    "with open(rf'C:\\Users\\jerry\\test\\AD2.pickle', 'rb') as f:\n",
    "    G = pickle.load(f)"
   ]
  },
  {
   "cell_type": "code",
   "execution_count": 3,
   "metadata": {},
   "outputs": [],
   "source": [
    "with open(rf'C:\\Users\\jerry\\test\\network-and-credentials-simulated\\result\\Enterprise_graph\\freq_count.pickle', 'rb') as f:\n",
    "    hop = pickle.load(f)"
   ]
  },
  {
   "cell_type": "code",
   "execution_count": 4,
   "metadata": {},
   "outputs": [
    {
     "data": {
      "text/plain": [
       "{'target_VPN_count': 3236,\n",
       " 'target_Comp298039_count': 28,\n",
       " 'target_Comp933307_count': 10,\n",
       " 'target_Comp668537_count': 11,\n",
       " 'target_Comp749493_count': 18,\n",
       " 'target_Comp217088_count': 68,\n",
       " 'target_Comp658570_count': 1,\n",
       " 'target_Comp530048_count': 30,\n",
       " 'target_Comp652992_count': 5,\n",
       " 'target_Comp073202_count': 47,\n",
       " 'target_Comp167392_count': 25,\n",
       " 'target_Comp843020_count': 27,\n",
       " 'target_Comp512092_count': 23,\n",
       " 'target_Comp206546_count': 84,\n",
       " 'target_Comp544870_count': 60,\n",
       " 'target_Comp044772_count': 28,\n",
       " 'target_Comp819353_count': 1,\n",
       " 'target_Comp835004_count': 10,\n",
       " 'target_Comp296454_count': 25,\n",
       " 'target_Comp780221_count': 2,\n",
       " 'target_Comp324304_count': 11,\n",
       " 'target_Comp623258_count': 6,\n",
       " 'target_Comp431655_count': 3,\n",
       " 'target_Comp603732_count': 6,\n",
       " 'target_Comp048868_count': 55,\n",
       " 'target_Comp536789_count': 3,\n",
       " 'target_Comp139547_count': 1,\n",
       " 'target_Comp953804_count': 1,\n",
       " 'target_Comp844043_count': 1,\n",
       " 'target_Comp601372_count': 0,\n",
       " 'target_Comp911314_count': 0,\n",
       " 'target_Comp610792_count': 0,\n",
       " 'target_Comp587668_count': 0,\n",
       " 'target_Comp578325_count': 0,\n",
       " 'target_Comp453311_count': 0,\n",
       " 'target_Comp642143_count': 0,\n",
       " 'target_Comp048253_count': 0,\n",
       " 'target_Comp274105_count': 0,\n",
       " 'target_Comp128670_count': 0,\n",
       " 'target_Comp375485_count': 0,\n",
       " 'target_IP590409_count': 0,\n",
       " 'target_Comp492567_count': 0}"
      ]
     },
     "execution_count": 4,
     "metadata": {},
     "output_type": "execute_result"
    }
   ],
   "source": [
    "logging.info(f\"{hop}\")\n",
    "hop"
   ]
  },
  {
   "cell_type": "code",
   "execution_count": 23,
   "metadata": {},
   "outputs": [
    {
     "data": {
      "text/plain": [
       "3236"
      ]
     },
     "execution_count": 23,
     "metadata": {},
     "output_type": "execute_result"
    }
   ],
   "source": [
    "hop['target_VPN_count']"
   ]
  },
  {
   "cell_type": "code",
   "execution_count": 25,
   "metadata": {},
   "outputs": [],
   "source": [
    "for nei in neighbors:\n",
    "    logging.info(hop[f\"target_{nei}_count\"])\n",
    "    logging.info(f'{nei}')"
   ]
  },
  {
   "cell_type": "code",
   "execution_count": 21,
   "metadata": {},
   "outputs": [],
   "source": [
    "with open(f'result/2/highest_level_credential.pickle', 'rb') as f:\n",
    "    highest_level_credential = pickle.load(f)\n",
    "with open(f'result/2/middle_level_credential.pickle', 'rb') as f:\n",
    "    middle_level_credential = pickle.load(f)\n",
    "with open(f'result/2/lowest_level_credential.pickle', 'rb') as f:\n",
    "    lowest_level_credential = pickle.load(f)"
   ]
  },
  {
   "cell_type": "code",
   "execution_count": null,
   "metadata": {},
   "outputs": [],
   "source": [
    "highest_level_credential.keys()"
   ]
  },
  {
   "cell_type": "code",
   "execution_count": 7,
   "metadata": {},
   "outputs": [],
   "source": [
    "logging.info(f\"____________________________________________________\")\n",
    "for h in highest_level_credential.items():\n",
    "    logging.info(f\"{h}\")\n",
    "logging.info(f\"____________________________________________________\")"
   ]
  },
  {
   "cell_type": "code",
   "execution_count": 31,
   "metadata": {},
   "outputs": [],
   "source": [
    "count_h = 0\n",
    "count_m = 0\n",
    "count_l = 0\n",
    "logging.basicConfig(filename='output.log', level=logging.DEBUG, format='%(message)s')\n",
    "logging.info(f\"____________________________________________________\")\n",
    "for i in G.nodes['Comp720864'].items():\n",
    "    if i[0] in highest_level_credential.keys():\n",
    "        logging.info(f\"{i[0]}\")\n",
    "        count_h+=1\n",
    "    if i[0] in middle_level_credential.keys():\n",
    "        count_m+=1\n",
    "    if i[0] in lowest_level_credential.keys():\n",
    "        count_l+=1\n",
    "logging.info(f\"____________________________________________________\")"
   ]
  },
  {
   "cell_type": "code",
   "execution_count": 32,
   "metadata": {},
   "outputs": [
    {
     "data": {
      "text/plain": [
       "(1, 11, 0)"
      ]
     },
     "execution_count": 32,
     "metadata": {},
     "output_type": "execute_result"
    }
   ],
   "source": [
    "count_h,count_m,count_l"
   ]
  },
  {
   "cell_type": "code",
   "execution_count": null,
   "metadata": {},
   "outputs": [],
   "source": [
    "node_data = G.nodes(data=True)\n",
    "\n",
    "for node, data in node_data:\n",
    "    print(f\"Node {node}:\")\n",
    "    for key, value in data.items():\n",
    "        print(f\"  {key}: {value}\")"
   ]
  },
  {
   "cell_type": "code",
   "execution_count": null,
   "metadata": {},
   "outputs": [],
   "source": [
    "degreee_of_nodes = sorted(G.degree, key=lambda x: x[1], reverse=True)\n",
    "degreee_of_nodes"
   ]
  },
  {
   "cell_type": "code",
   "execution_count": 11,
   "metadata": {},
   "outputs": [
    {
     "data": {
      "text/plain": [
       "25"
      ]
     },
     "execution_count": 11,
     "metadata": {},
     "output_type": "execute_result"
    }
   ],
   "source": [
    "logging.basicConfig(filename='output.log', level=logging.DEBUG, format='%(message)s')\n",
    "neighbors = list(G.neighbors('EnterpriseAppServer'))\n",
    "logging.info(f\"{neighbors}\")\n",
    "len(neighbors)"
   ]
  },
  {
   "cell_type": "code",
   "execution_count": 16,
   "metadata": {},
   "outputs": [],
   "source": [
    "sets_dict={}\n",
    "for comp in neighbors:\n",
    "    sets_dict[f'target_{comp}_cred_on_comp'] = 0"
   ]
  },
  {
   "cell_type": "code",
   "execution_count": 17,
   "metadata": {},
   "outputs": [],
   "source": [
    "sets_dict[f'target_{comp}_cred_on_comp']+=1"
   ]
  },
  {
   "cell_type": "code",
   "execution_count": 18,
   "metadata": {},
   "outputs": [
    {
     "data": {
      "text/plain": [
       "1"
      ]
     },
     "execution_count": 18,
     "metadata": {},
     "output_type": "execute_result"
    }
   ],
   "source": [
    "sets_dict[f'target_{comp}_cred_on_comp']"
   ]
  },
  {
   "cell_type": "code",
   "execution_count": 10,
   "metadata": {},
   "outputs": [],
   "source": [
    "hop_1 = [node for node, distance in nx.single_source_shortest_path_length(G, 'EnterpriseAppServer').items() if distance==1]\n",
    "for n in list(G.nodes()):\n",
    "    if n in hop_1:\n",
    "        if len(list(G.neighbors(n))) == 1:\n",
    "            G.remove_node(n)"
   ]
  },
  {
   "cell_type": "code",
   "execution_count": 20,
   "metadata": {},
   "outputs": [],
   "source": [
    "edges_hop1 = []\n",
    "for edge in G.edges():\n",
    "    if 'EnterpriseAppServer' in edge:\n",
    "        edges_hop1.append(edge)"
   ]
  },
  {
   "cell_type": "code",
   "execution_count": 34,
   "metadata": {},
   "outputs": [],
   "source": [
    "for i in G.neighbors('EnterpriseAppServer'):\n",
    "    logging.info(len(list(G.neighbors(i))))\n",
    "    logging.info(i)"
   ]
  },
  {
   "cell_type": "code",
   "execution_count": null,
   "metadata": {},
   "outputs": [],
   "source": []
  }
 ],
 "metadata": {
  "kernelspec": {
   "display_name": "py3_11",
   "language": "python",
   "name": "python3"
  },
  "language_info": {
   "codemirror_mode": {
    "name": "ipython",
    "version": 3
   },
   "file_extension": ".py",
   "mimetype": "text/x-python",
   "name": "python",
   "nbconvert_exporter": "python",
   "pygments_lexer": "ipython3",
   "version": "3.11.4"
  },
  "orig_nbformat": 4
 },
 "nbformat": 4,
 "nbformat_minor": 2
}
