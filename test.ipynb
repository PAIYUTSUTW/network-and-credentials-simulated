{
 "cells": [
  {
   "cell_type": "code",
   "execution_count": 1,
   "metadata": {},
   "outputs": [],
   "source": [
    "import utils\n",
    "import setting_environment\n",
    "from natsort import natsorted\n",
    "import os\n",
    "import pickle\n",
    "import logging\n",
    "logging.basicConfig(filename='output.log', level=logging.DEBUG, format='%(message)s')"
   ]
  },
  {
   "cell_type": "code",
   "execution_count": 2,
   "metadata": {},
   "outputs": [],
   "source": [
    "loader = setting_environment.set_environment(84)"
   ]
  },
  {
   "cell_type": "code",
   "execution_count": 5,
   "metadata": {},
   "outputs": [],
   "source": [
    "with open(f'result/2/network_topo.gpickle', 'rb') as f:\n",
    "    G = pickle.load(f)"
   ]
  },
  {
   "cell_type": "code",
   "execution_count": 5,
   "metadata": {},
   "outputs": [],
   "source": [
    "with open(f'result/0/supermachine.pickle', 'rb') as f:\n",
    "    hop = pickle.load(f)"
   ]
  },
  {
   "cell_type": "code",
   "execution_count": 6,
   "metadata": {},
   "outputs": [
    {
     "data": {
      "text/plain": [
       "['EnterpriseAppServer']"
      ]
     },
     "execution_count": 6,
     "metadata": {},
     "output_type": "execute_result"
    }
   ],
   "source": [
    "logging.info(f\"{hop}\")\n",
    "hop"
   ]
  },
  {
   "cell_type": "code",
   "execution_count": 21,
   "metadata": {},
   "outputs": [],
   "source": [
    "with open(f'result/2/highest_level_credential.pickle', 'rb') as f:\n",
    "    highest_level_credential = pickle.load(f)\n",
    "with open(f'result/2/middle_level_credential.pickle', 'rb') as f:\n",
    "    middle_level_credential = pickle.load(f)\n",
    "with open(f'result/2/lowest_level_credential.pickle', 'rb') as f:\n",
    "    lowest_level_credential = pickle.load(f)"
   ]
  },
  {
   "cell_type": "code",
   "execution_count": null,
   "metadata": {},
   "outputs": [],
   "source": [
    "highest_level_credential.keys()"
   ]
  },
  {
   "cell_type": "code",
   "execution_count": 7,
   "metadata": {},
   "outputs": [],
   "source": [
    "logging.info(f\"____________________________________________________\")\n",
    "for h in highest_level_credential.items():\n",
    "    logging.info(f\"{h}\")\n",
    "logging.info(f\"____________________________________________________\")"
   ]
  },
  {
   "cell_type": "code",
   "execution_count": 31,
   "metadata": {},
   "outputs": [],
   "source": [
    "count_h = 0\n",
    "count_m = 0\n",
    "count_l = 0\n",
    "logging.basicConfig(filename='output.log', level=logging.DEBUG, format='%(message)s')\n",
    "logging.info(f\"____________________________________________________\")\n",
    "for i in G.nodes['Comp720864'].items():\n",
    "    if i[0] in highest_level_credential.keys():\n",
    "        logging.info(f\"{i[0]}\")\n",
    "        count_h+=1\n",
    "    if i[0] in middle_level_credential.keys():\n",
    "        count_m+=1\n",
    "    if i[0] in lowest_level_credential.keys():\n",
    "        count_l+=1\n",
    "logging.info(f\"____________________________________________________\")"
   ]
  },
  {
   "cell_type": "code",
   "execution_count": 32,
   "metadata": {},
   "outputs": [
    {
     "data": {
      "text/plain": [
       "(1, 11, 0)"
      ]
     },
     "execution_count": 32,
     "metadata": {},
     "output_type": "execute_result"
    }
   ],
   "source": [
    "count_h,count_m,count_l"
   ]
  },
  {
   "cell_type": "code",
   "execution_count": null,
   "metadata": {},
   "outputs": [],
   "source": [
    "node_data = G.nodes(data=True)\n",
    "\n",
    "for node, data in node_data:\n",
    "    print(f\"Node {node}:\")\n",
    "    for key, value in data.items():\n",
    "        print(f\"  {key}: {value}\")"
   ]
  },
  {
   "cell_type": "code",
   "execution_count": null,
   "metadata": {},
   "outputs": [],
   "source": [
    "degreee_of_nodes = sorted(G.degree, key=lambda x: x[1], reverse=True)\n",
    "degreee_of_nodes"
   ]
  },
  {
   "cell_type": "code",
   "execution_count": null,
   "metadata": {},
   "outputs": [],
   "source": []
  }
 ],
 "metadata": {
  "kernelspec": {
   "display_name": "py3_11",
   "language": "python",
   "name": "python3"
  },
  "language_info": {
   "codemirror_mode": {
    "name": "ipython",
    "version": 3
   },
   "file_extension": ".py",
   "mimetype": "text/x-python",
   "name": "python",
   "nbconvert_exporter": "python",
   "pygments_lexer": "ipython3",
   "version": "3.11.4"
  },
  "orig_nbformat": 4
 },
 "nbformat": 4,
 "nbformat_minor": 2
}
